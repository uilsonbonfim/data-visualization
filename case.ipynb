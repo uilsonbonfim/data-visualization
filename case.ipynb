{
 "cells": [
  {
   "cell_type": "code",
   "execution_count": 1,
   "metadata": {},
   "outputs": [],
   "source": [
    "#########################################################################################\n",
    "#############                                                               #############\n",
    "#############      Browser visualization Python Script - Uilson Bonfim      #############\n",
    "#############                                                               #############\n",
    "#########################################################################################"
   ]
  },
  {
   "cell_type": "code",
   "execution_count": 2,
   "metadata": {},
   "outputs": [],
   "source": [
    "# Importing library that will be used in this scipt\n",
    "\n",
    "import pandas as pd\n",
    "import matplotlib.pyplot as plt, mpld3"
   ]
  },
  {
   "cell_type": "code",
   "execution_count": 3,
   "metadata": {},
   "outputs": [],
   "source": [
    "# Import dataset file from CSV\n",
    "\n",
    "country_serie = pd.read_csv('./dataset/WDICountry-Series.csv')\n",
    "country = pd.read_csv('./dataset/WDICountry.csv')\n",
    "data = pd.read_csv('./dataset/WDIData.csv')\n",
    "series_time = pd.read_csv('./dataset/WDISeries-Time.csv')\n",
    "series = pd.read_csv('./dataset/WDISeries.csv')"
   ]
  },
  {
   "cell_type": "code",
   "execution_count": 4,
   "metadata": {},
   "outputs": [],
   "source": [
    "# Formatting 'data' dataset in order do merge to 'series' dataset\n",
    "\n",
    "new_data = data.drop(\n",
    "    ['Indicator Name', 'Unnamed: 65'], axis = 1\n",
    "    ).melt(id_vars = ['Country Name', 'Country Code', 'Indicator Code']\n",
    "    ).rename(columns = {\n",
    "            'Country Code' : 'country_code',\n",
    "            'Country Name' : 'country_name',\n",
    "            'Indicator Code' : 'indicator_code',\n",
    "            'variable' : 'year',\n",
    "            'value' : 'data'}\n",
    "    )"
   ]
  },
  {
   "cell_type": "code",
   "execution_count": 5,
   "metadata": {},
   "outputs": [],
   "source": [
    "# Selecting variables related to Land Use in order to generate charts from it\n",
    "# Formatting 'series' dataset in order do merge to 'data' dataset\n",
    "\n",
    "features_selected = series.loc[\n",
    "        [0, 22, 3, 4, 17, 237, 238, 243, 244, 601]].drop(\n",
    "        columns = series.columns[5:], axis = 0\n",
    "         ).rename(columns = {\n",
    "                'Series Code' : 'indicator_code',\n",
    "                'Topic' : 'topic',\n",
    "                'Indicator Name' : 'indicator_name',\n",
    "                'Short definition' : 'short_definition',\n",
    "                'Long definition' : 'long_definition'}\n",
    ")"
   ]
  },
  {
   "cell_type": "code",
   "execution_count": 6,
   "metadata": {},
   "outputs": [],
   "source": [
    "# Merging 'data' and 'series' dataset\n",
    "\n",
    "result = (\n",
    "    features_selected\n",
    "    .merge(\n",
    "        new_data,\n",
    "        on = 'indicator_code',\n",
    "        how = 'left'\n",
    "    )\n",
    ")"
   ]
  },
  {
   "cell_type": "code",
   "execution_count": 7,
   "metadata": {},
   "outputs": [],
   "source": [
    "# In order to present in a simply way to display charts on Brower a specific view was selected:\n",
    "# Selecting top 10 countries with highest Agriculture, forestry, and fishing, value added per worker in 2019 (most recent year containg info)\n",
    "\n",
    "countries_selected = result[(result.year == '2019') & (result.indicator_code == 'NV.AGR.EMPL.KD')].sort_values(by = 'data', ascending = True)[:10]\n",
    "\n",
    "indicator_name = pd.DataFrame(countries_selected.indicator_name).iloc[1].values\n"
   ]
  },
  {
   "cell_type": "code",
   "execution_count": null,
   "metadata": {},
   "outputs": [],
   "source": [
    "# Creating a chart from the select data\n",
    "fig, ax = plt.subplots(figsize = (20, 10))\n",
    "\n",
    "bars = ax.barh(\n",
    "        countries_selected.country_name, \n",
    "        countries_selected.data\n",
    "    )\n",
    "ax.set_title(f'Top 10 Countries with highest {indicator_name}'\n",
    "    )\n",
    "\n",
    "ax.set_xlabel(f'{indicator_name}')\n",
    "ax.set_ylabel('Country')"
   ]
  },
  {
   "cell_type": "code",
   "execution_count": null,
   "metadata": {},
   "outputs": [],
   "source": [
    "# Displaying HTML code to embeed on WebSite\n",
    "\n",
    "print(mpld3.fig_to_html(fig, template_type=\"simple\"))"
   ]
  },
  {
   "cell_type": "code",
   "execution_count": null,
   "metadata": {},
   "outputs": [],
   "source": [
    "# Exporting HTML Code naming index.html\n",
    "\n",
    "html_str = mpld3.fig_to_html(fig)\n",
    "Html_file= open(\"index.html\",\"w\")\n",
    "Html_file.write(html_str)\n",
    "Html_file.close()"
   ]
  },
  {
   "cell_type": "code",
   "execution_count": null,
   "metadata": {},
   "outputs": [],
   "source": [
    "# Plotting data in a browser\n",
    "\n",
    "mpld3.enable_notebook()\n",
    "mpld3.show()"
   ]
  }
 ],
 "metadata": {
  "interpreter": {
   "hash": "14cbd7e7d5bd2bd66dd97e6c2da907b80d49ab3761994dfa992ef2a13f1be0bb"
  },
  "kernelspec": {
   "display_name": "Python 3.8.9 64-bit ('venv': venv)",
   "language": "python",
   "name": "python3"
  },
  "language_info": {
   "codemirror_mode": {
    "name": "ipython",
    "version": 3
   },
   "file_extension": ".py",
   "mimetype": "text/x-python",
   "name": "python",
   "nbconvert_exporter": "python",
   "pygments_lexer": "ipython3",
   "version": "3.8.9"
  },
  "orig_nbformat": 4
 },
 "nbformat": 4,
 "nbformat_minor": 2
}
